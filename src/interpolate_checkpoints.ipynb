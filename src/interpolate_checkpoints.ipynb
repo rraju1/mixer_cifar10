{
 "cells": [
  {
   "cell_type": "code",
   "execution_count": 12,
   "metadata": {},
   "outputs": [],
   "source": [
    "import torch\n",
    "import torch.nn as nn\n",
    "import torchvision\n",
    "import matplotlib.pyplot as plt\n",
    "import numpy as np\n",
    "import json\n",
    "\n",
    "from types import SimpleNamespace\n",
    "\n",
    "from utils.dataloader import get_dataloaders\n",
    "from utils.utils import get_model, project_bin_mask\n",
    "from utils.mlp_mixer import create_binary_mask"
   ]
  },
  {
   "cell_type": "code",
   "execution_count": 26,
   "metadata": {},
   "outputs": [],
   "source": [
    "args = SimpleNamespace()\n",
    "args.dataset = 'c10'\n",
    "args.model = 'mlp_mixer_masked'\n",
    "args.batch_size = 256\n",
    "args.eval_batch_size = 256\n",
    "args.num_workers = 4\n",
    "args.seed = 0\n",
    "args.epochs = 300\n",
    "args.patch_size = 16\n",
    "args.ps = 16\n",
    "args.autoaugment = False\n",
    "args.use_cuda = True\n",
    "args.size = 224\n",
    "args.split = 'index'\n",
    "args.hidden_size = 128\n",
    "args.hidden_c = 512\n",
    "args.hidden_s = 64\n",
    "args.num_layers = 8\n",
    "args.num_classes = 10\n",
    "args.drop_p = 0\n",
    "args.off_act = False\n",
    "args.is_cls_token = False\n",
    "args.lambda_drop = 0.3\n",
    "args.attn_maps_path = './utils/avg_attns_trainset.json'\n",
    "args.device = torch.device('cuda:0' if torch.cuda.is_available() else 'cpu')\n",
    "with open(args.attn_maps_path) as json_file:\n",
    "    args.data = json.load(json_file)"
   ]
  },
  {
   "cell_type": "code",
   "execution_count": 15,
   "metadata": {},
   "outputs": [
    {
     "name": "stdout",
     "output_type": "stream",
     "text": [
      "Files already downloaded and verified\n",
      "Files already downloaded and verified\n"
     ]
    }
   ],
   "source": [
    "train_dataloader, test_dataloader = get_dataloaders(args)"
   ]
  },
  {
   "cell_type": "code",
   "execution_count": 16,
   "metadata": {},
   "outputs": [],
   "source": [
    "model = get_model(args)\n",
    "model1 = get_model(args)"
   ]
  },
  {
   "cell_type": "code",
   "execution_count": 17,
   "metadata": {},
   "outputs": [],
   "source": [
    "model.load_state_dict(torch.load('../artifacts/mixer_masked_cifar10_0.0.pth'))\n",
    "model1.load_state_dict(torch.load('../artifacts/mixer_masked_cifar10_0.2.pth'));"
   ]
  },
  {
   "cell_type": "code",
   "execution_count": 18,
   "metadata": {},
   "outputs": [],
   "source": [
    "@torch.no_grad()\n",
    "def evaluate_validation(model, loader, device):\n",
    "    loss_fcn = nn.CrossEntropyLoss()\n",
    "    total_loss, total_acc, num_imgs = 0.0, 0.0, 0.0\n",
    "    for img, label in loader:\n",
    "        img, label = img.to(device), label.to(device)\n",
    "        projected_mask = torch.ones_like(model.patch_emb(img)).to(device)\n",
    "        out, _ = model(img, projected_mask)\n",
    "        loss = loss_fcn(out, label)\n",
    "        total_loss += loss\n",
    "        total_acc += out.argmax(dim=-1).eq(label).sum(-1)\n",
    "        num_imgs += img.size(0)\n",
    "    return total_loss/num_imgs, total_acc/num_imgs"
   ]
  },
  {
   "cell_type": "code",
   "execution_count": 19,
   "metadata": {},
   "outputs": [],
   "source": [
    "@torch.no_grad()\n",
    "def evaluate_training(model, loader, device, args):\n",
    "    loss_fcn = nn.CrossEntropyLoss()\n",
    "    total_loss, total_acc, num_imgs = 0.0, 0.0, 0.0\n",
    "    for img, label, index in loader:\n",
    "        img, label = img.to(device), label.to(device)\n",
    "        projected_mask = project_bin_mask(img, index, args.data, args.lambda_drop, args.ps, img.shape[1], args.hidden_size)\n",
    "        projected_mask = create_binary_mask(projected_mask).to(device)\n",
    "\n",
    "        out, _ = model(img, projected_mask)\n",
    "        loss = loss_fcn(out, label)\n",
    "        total_loss += loss\n",
    "        total_acc += out.argmax(dim=-1).eq(label).sum(-1)\n",
    "        num_imgs += img.size(0)\n",
    "    return total_loss/num_imgs, total_acc/num_imgs"
   ]
  },
  {
   "cell_type": "code",
   "execution_count": 20,
   "metadata": {},
   "outputs": [],
   "source": [
    "xsweep = np.linspace(0,1,10)"
   ]
  },
  {
   "cell_type": "code",
   "execution_count": 21,
   "metadata": {},
   "outputs": [],
   "source": [
    "def interpolate_validation_models(model, model1, loader, args, xsweep):\n",
    "    interpolation_loss = []\n",
    "    interpolation_acc = []\n",
    "\n",
    "    loss, acc = evaluate_validation(model, loader, args.device)\n",
    "    loss1, acc1 = evaluate_validation(model1, loader, args.device)\n",
    "\n",
    "    for alpha in xsweep:\n",
    "        interp_loss = alpha * loss.item() + (1 - alpha) * loss1.item()\n",
    "        interp_acc = alpha * acc.item() + (1 - alpha) * acc1.item()\n",
    "        interpolation_loss.append(interp_loss)\n",
    "        interpolation_acc.append(interp_acc)\n",
    "\n",
    "    return np.array(interpolation_loss), np.array(interpolation_acc)"
   ]
  },
  {
   "cell_type": "code",
   "execution_count": 27,
   "metadata": {},
   "outputs": [],
   "source": [
    "training_loss, training_acc = evaluate_training(model, train_dataloader, args.device, args)"
   ]
  },
  {
   "cell_type": "code",
   "execution_count": 28,
   "metadata": {},
   "outputs": [
    {
     "data": {
      "text/plain": [
       "tensor(0.0014, device='cuda:0')"
      ]
     },
     "execution_count": 28,
     "metadata": {},
     "output_type": "execute_result"
    }
   ],
   "source": [
    "training_loss"
   ]
  },
  {
   "cell_type": "code",
   "execution_count": 29,
   "metadata": {},
   "outputs": [
    {
     "data": {
      "text/plain": [
       "tensor(0.9166, device='cuda:0')"
      ]
     },
     "execution_count": 29,
     "metadata": {},
     "output_type": "execute_result"
    }
   ],
   "source": [
    "training_acc"
   ]
  },
  {
   "cell_type": "code",
   "execution_count": 67,
   "metadata": {},
   "outputs": [],
   "source": [
    "iloss_test, iacc_test = interpolate_validation_models(model, model1, test_dataloader, args, xsweep)"
   ]
  },
  {
   "cell_type": "code",
   "execution_count": 68,
   "metadata": {},
   "outputs": [
    {
     "data": {
      "text/plain": [
       "[Text(0.5, 0, 'alpha'), Text(0, 0.5, 'Accuracy')]"
      ]
     },
     "execution_count": 68,
     "metadata": {},
     "output_type": "execute_result"
    },
    {
     "data": {
      "image/png": "[encoded data removed]",
      "text/plain": [
       "<Figure size 432x288 with 2 Axes>"
      ]
     },
     "metadata": {
      "needs_background": "light"
     },
     "output_type": "display_data"
    }
   ],
   "source": [
    "fig, axs = plt.subplots(2)\n",
    "fig.suptitle('Validation Plots lambda=0.3')\n",
    "axs[0].plot(xsweep, iloss_test)\n",
    "axs[0].set(ylabel='Loss')\n",
    "axs[1].plot(xsweep, iacc_test)\n",
    "axs[1].set(xlabel='alpha', ylabel='Accuracy')"
   ]
  },
  {
   "cell_type": "code",
   "execution_count": 72,
   "metadata": {},
   "outputs": [],
   "source": [
    "iloss_train, iacc_train = interpolate_models(model, model1, train_dataloader, args, xsweep, None)"
   ]
  },
  {
   "cell_type": "code",
   "execution_count": 73,
   "metadata": {},
   "outputs": [
    {
     "data": {
      "text/plain": [
       "[Text(0.5, 0, 'alpha'), Text(0, 0.5, 'Accuracy')]"
      ]
     },
     "execution_count": 73,
     "metadata": {},
     "output_type": "execute_result"
    },
    {
     "data": {
      "image/png": "[encoded data removed]",
      "text/plain": [
       "<Figure size 432x288 with 2 Axes>"
      ]
     },
     "metadata": {
      "needs_background": "light"
     },
     "output_type": "display_data"
    }
   ],
   "source": [
    "fig, axs = plt.subplots(2)\n",
    "fig.suptitle('Train Plots lambda=0.2')\n",
    "axs[0].plot(xsweep, iloss_train)\n",
    "axs[0].set(ylabel='Loss')\n",
    "axs[1].plot(xsweep, iacc_train)\n",
    "axs[1].set(xlabel='alpha', ylabel='Accuracy')"
   ]
  },
  {
   "cell_type": "code",
   "execution_count": null,
   "metadata": {},
   "outputs": [],
   "source": []
  }
 ],
 "metadata": {
  "interpreter": {
   "hash": "c17c9f1ff2ee464a4147b62e2ca73bb78b9b7da76669e716dc285e2cdb41492c"
  },
  "kernelspec": {
   "display_name": "Python 3.9.12 ('mixer_cifar10')",
   "language": "python",
   "name": "python3"
  },
  "language_info": {
   "codemirror_mode": {
    "name": "ipython",
    "version": 3
   },
   "file_extension": ".py",
   "mimetype": "text/x-python",
   "name": "python",
   "nbconvert_exporter": "python",
   "pygments_lexer": "ipython3",
   "version": "3.9.12"
  },
  "orig_nbformat": 4
 },
 "nbformat": 4,
 "nbformat_minor": 2
}
