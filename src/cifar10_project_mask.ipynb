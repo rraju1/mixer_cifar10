{
 "cells": [
  {
   "cell_type": "code",
   "execution_count": 1,
   "metadata": {},
   "outputs": [
    {
     "name": "stderr",
     "output_type": "stream",
     "text": [
      "/home/rraju2/anaconda3/envs/mixer_cifar10/lib/python3.9/site-packages/tqdm/auto.py:22: TqdmWarning: IProgress not found. Please update jupyter and ipywidgets. See https://ipywidgets.readthedocs.io/en/stable/user_install.html\n",
      "  from .autonotebook import tqdm as notebook_tqdm\n"
     ]
    }
   ],
   "source": [
    "import torch\n",
    "import torch.nn as nn\n",
    "import torch.nn.functional as F\n",
    "import json\n",
    "import numpy as np\n",
    "from utils.dataloader import get_dataloaders\n",
    "import matplotlib\n",
    "from utils.mlp_mixer import create_binary_mask"
   ]
  },
  {
   "cell_type": "code",
   "execution_count": 43,
   "metadata": {},
   "outputs": [],
   "source": [
    "from types import SimpleNamespace"
   ]
  },
  {
   "cell_type": "code",
   "execution_count": 44,
   "metadata": {},
   "outputs": [],
   "source": [
    "with open('avg_attns_trainset.json') as json_file:\n",
    "    data = json.load(json_file)"
   ]
  },
  {
   "cell_type": "code",
   "execution_count": 45,
   "metadata": {},
   "outputs": [],
   "source": [
    "def get_mask_batch(image, idx, attn_dict, drop_lambda):\n",
    "    idx_np = idx.numpy()\n",
    "    w_featmap = int(np.sqrt(len(attn_dict[str(0)]))) # 14 0 is a random key\n",
    "    h_featmap = int(np.sqrt(len(attn_dict[str(0)]))) # 14\n",
    "    scale = image.shape[2] // w_featmap # to pass to interpolate\n",
    "    batch_size = len(idx)\n",
    "\n",
    "    batch_array = [] # collect attn maps\n",
    "    for i in range(batch_size):\n",
    "        batch_array.append(np.array(attn_dict[str(idx_np[i])]))\n",
    "    batch_tensor = torch.tensor(batch_array)\n",
    "\n",
    "    val, indices = torch.sort(batch_tensor, dim=1)\n",
    "    threshold = torch.quantile(val, drop_lambda, dim=1)\n",
    "    th_attn = val >= threshold[:,None]\n",
    "    idx2 = torch.argsort(indices, dim=1) # rearrange patch positions\n",
    "    for batch_idx in range(th_attn.shape[0]):\n",
    "        th_attn[batch_idx] = th_attn[batch_idx][idx2[batch_idx]]\n",
    "\n",
    "    th_attn = th_attn.float() # bool -> float\n",
    "    bin_mask = th_attn.reshape(-1, w_featmap, h_featmap)\n",
    "    mask = torch.nn.functional.interpolate(bin_mask.unsqueeze(1), scale_factor=scale, mode=\"nearest\")\n",
    "    return mask"
   ]
  },
  {
   "cell_type": "code",
   "execution_count": 46,
   "metadata": {},
   "outputs": [],
   "source": [
    "def gen_mask(masks, unfold_fn):\n",
    "    patched_tensor = unfold_fn(masks.repeat(1,3,1,1))\n",
    "    patched_tensor = patched_tensor.permute(0,2,1)\n",
    "    return patched_tensor"
   ]
  },
  {
   "cell_type": "code",
   "execution_count": 47,
   "metadata": {},
   "outputs": [],
   "source": [
    "args = SimpleNamespace()\n",
    "args.dataset = 'c10'\n",
    "args.model = 'mlp_mixer'\n",
    "args.batch_size = 10\n",
    "args.eval_batch_size = 10\n",
    "args.num_workers = 4\n",
    "args.seed = 0\n",
    "args.epochs = 300\n",
    "args.patch_size = 4\n",
    "args.autoaugment = False\n",
    "args.use_cuda = False\n",
    "args.size = 224\n",
    "args.split = 'index'"
   ]
  },
  {
   "cell_type": "code",
   "execution_count": 48,
   "metadata": {},
   "outputs": [
    {
     "name": "stdout",
     "output_type": "stream",
     "text": [
      "Files already downloaded and verified\n",
      "Files already downloaded and verified\n"
     ]
    }
   ],
   "source": [
    "train_dataloader, test_dataloader = get_dataloaders(args)"
   ]
  },
  {
   "cell_type": "code",
   "execution_count": 49,
   "metadata": {},
   "outputs": [],
   "source": [
    "image, label, index = next(iter(train_dataloader))"
   ]
  },
  {
   "cell_type": "code",
   "execution_count": 50,
   "metadata": {},
   "outputs": [],
   "source": [
    "def project_bin_mask(image, index, data, lambda_drop, ps, in_chan, hidden):\n",
    "    A = torch.randn(hidden, in_chan * ps * ps)\n",
    "    unfold_fn = nn.Unfold(kernel_size=(ps, ps), stride=ps)\n",
    "    mask = get_mask_batch(image, index, data, lambda_drop)\n",
    "    patched = gen_mask(mask, unfold_fn)\n",
    "    output = torch.nn.functional.linear(patched, A, bias=None)\n",
    "    bin_output = create_binary_mask(output)\n",
    "    return bin_output"
   ]
  },
  {
   "cell_type": "code",
   "execution_count": 51,
   "metadata": {},
   "outputs": [],
   "source": [
    "mask = project_bin_mask(image, index, data, 0.1, 16, 3, 512)"
   ]
  },
  {
   "cell_type": "code",
   "execution_count": 53,
   "metadata": {},
   "outputs": [
    {
     "data": {
      "text/plain": [
       "tensor(90112.)"
      ]
     },
     "execution_count": 53,
     "metadata": {},
     "output_type": "execute_result"
    }
   ],
   "source": [
    "torch.sum(mask[0])"
   ]
  },
  {
   "cell_type": "code",
   "execution_count": 56,
   "metadata": {},
   "outputs": [
    {
     "data": {
      "text/plain": [
       "90112"
      ]
     },
     "execution_count": 56,
     "metadata": {},
     "output_type": "execute_result"
    },
    {
     "ename": "",
     "evalue": "",
     "output_type": "error",
     "traceback": [
      "\u001b[1;31mThe Kernel crashed while executing code in the the current cell or a previous cell. Please review the code in the cell(s) to identify a possible cause of the failure. Click <a href='https://aka.ms/vscodeJupyterKernelCrash'>here</a> for more info. View Jupyter <a href='command:jupyter.viewOutput'>log</a> for further details."
     ]
    }
   ],
   "source": [
    "100352 - (20*512)"
   ]
  },
  {
   "cell_type": "code",
   "execution_count": null,
   "metadata": {},
   "outputs": [],
   "source": []
  }
 ],
 "metadata": {
  "interpreter": {
   "hash": "c17c9f1ff2ee464a4147b62e2ca73bb78b9b7da76669e716dc285e2cdb41492c"
  },
  "kernelspec": {
   "display_name": "Python 3.9.12 ('mixer_cifar10')",
   "language": "python",
   "name": "python3"
  },
  "language_info": {
   "codemirror_mode": {
    "name": "ipython",
    "version": 3
   },
   "file_extension": ".py",
   "mimetype": "text/x-python",
   "name": "python",
   "nbconvert_exporter": "python",
   "pygments_lexer": "ipython3",
   "version": "3.9.12"
  },
  "orig_nbformat": 4
 },
 "nbformat": 4,
 "nbformat_minor": 2
}
